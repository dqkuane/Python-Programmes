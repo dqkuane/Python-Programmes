{
 "cells": [
  {
   "cell_type": "code",
   "execution_count": 1,
   "id": "53a6ad7b",
   "metadata": {},
   "outputs": [],
   "source": [
    "import pandas as pd\n",
    "import numpy as np\n",
    "import matplotlib.pyplot as plt\n",
    "plt.style.use(\"seaborn\")"
   ]
  },
  {
   "cell_type": "code",
   "execution_count": 105,
   "id": "fd3f97a1",
   "metadata": {},
   "outputs": [],
   "source": [
    "class ConBacktester():\n",
    "    '''\n",
    "    Class for the vectorised backtesting of contrarian Strategies.\n",
    "    '''\n",
    "    \n",
    "    def __init__(self, symbol, start, end, spread = None, tcost = None):\n",
    "        '''\n",
    "        Parameters\n",
    "        ----------\n",
    "        symbol: str\n",
    "            The ticker symbol of the instrument that will be backtested.\n",
    "        start: str\n",
    "            The start date for imported data.\n",
    "        end: str\n",
    "            The end date for imported data.\n",
    "        spread:\n",
    "            The spread between Buy and Sell prices. If you do not know the tcost,\n",
    "            input this parameter.\n",
    "        tcost: float\n",
    "            The proportional transaction/trading costs per trade. \n",
    "        \n",
    "        Note: For intraday_pairs.csv, data starts at 2018-01-01, and ends at 2019-12-30.\n",
    "              Symbols on the file are EURUSD, GBPUSD and EURAUD.\n",
    "        '''\n",
    "        self.symbol = symbol\n",
    "        self.start = start\n",
    "        self.end = end\n",
    "        self.spread = spread\n",
    "        self.results = None\n",
    "        self.get_data()\n",
    "        self.tc = tcost\n",
    "        if self.tc is None:\n",
    "            self.get_tcost()\n",
    "    \n",
    "    def __repr__(self):\n",
    "        return f'ContrarianBacktester(ticker = {self.symbol}, start = {self.start}, end = {self.end}, transactioncost = {self.tc})'\n",
    "    \n",
    "    def get_data(self):\n",
    "        '''\n",
    "        Imports the data from a given source. Default is intraday_pairs.csv.\n",
    "        '''\n",
    "        #reading csv, then creating a new frame for one instrument\n",
    "        raw = pd.read_csv('/Users/dejanmccreery/Documents/Documents - Dejan’s MacBook Air/Hagmann Algo Bootcamp/Part3_Materials/intraday_pairs.csv', parse_dates=['time'], index_col='time')\n",
    "        raw = raw[self.symbol].to_frame().dropna()\n",
    "        #slicing for the specified timestamps\n",
    "        raw = raw.loc[self.start:self.end].copy()\n",
    "        #formatting\n",
    "        raw.rename(columns = {self.symbol: 'Price'}, inplace = True)\n",
    "        #obtaining log returns\n",
    "        raw['Returns'] = np.log(raw/raw.shift(1))\n",
    "        self.data = raw\n",
    "    \n",
    "    def get_tcost(self):\n",
    "        \n",
    "        data = self.data.copy().dropna()\n",
    "        halfspread = (self.spread*0.0001)/2\n",
    "        #trans cost is proportional tc to mean price of instrument\n",
    "        self.tc = halfspread / data['Price'].mean()\n",
    "    \n",
    "    def test_strategy(self, window = 1):\n",
    "        '''\n",
    "        Backtests the strategy.\n",
    "        \n",
    "        Parameters\n",
    "        \n",
    "        window: int\n",
    "            The time window (number of bars) to be considered for the strategy.\n",
    "        '''\n",
    "        self.window = window\n",
    "        data = self.data.copy().dropna()\n",
    "        \n",
    "        #np.sign tells us which direction the instrument returns are\n",
    "        #making it negative is the idea of the contrarian strategy \n",
    "        #our position is thus 1 for buy, -1 for sell\n",
    "        data['Position'] = -np.sign(data['Returns'].rolling(self.window).mean())\n",
    "        #obtaining the returns\n",
    "        data['Strategy Returns'] = data.Position.shift(1) * data['Returns']\n",
    "        data.dropna(inplace=True)\n",
    "        data['Cumulative Returns'] = data.Returns.cumsum().apply(np.exp)\n",
    "        data['Cumulative Strat Returns'] = data['Strategy Returns'].cumsum().apply(np.exp)\n",
    "        #trades tells us when we change our position, i.e. close our position and open another\n",
    "        #by using diff we get the difference between 1 & -1, helpfully showing two trades\n",
    "        #fillna as NaN still means no trades made\n",
    "        data['Trades'] = data.Position.diff().fillna(0).abs()\n",
    "        #calculating the return including trading costs\n",
    "        data['Strategy Net Return'] = data['Strategy Returns'] - (data.Trades * self.tc)\n",
    "        data['Cumulative Net Strat Return'] = data['Strategy Net Return'].cumsum().apply(np.exp)\n",
    "        self.results = data\n",
    "        \n",
    "        performance = data['Cumulative Net Strat Return'].iloc[-1]\n",
    "        outperform = performance - data['Cumulative Returns'].iloc[-1]\n",
    "        return round(performance, 6), round(outperform, 6)\n",
    "    \n",
    "    def plot_results(self):\n",
    "        '''\n",
    "        Plots the performance of the trading strategy, and compares to the benchmark \n",
    "        i.e. if you had simply bought and held the instrument.\n",
    "        '''\n",
    "        if self.results is None:\n",
    "            print(\"Run test_strategy() first.\")\n",
    "        else:\n",
    "            title = f'{self.symbol} | Window = {self.window}, Transaction Cost = {self.tc}'\n",
    "            self.results[['Cumulative Returns', 'Cumulative Strat Returns']].plot(title=title, figsize = (11,7))\n",
    "   \n",
    "    def optimise_parameter(self, windowrange):\n",
    "        '''\n",
    "        Finds the optimal strategy by finding the global maximum given the window range.\n",
    "        \n",
    "        Parameters\n",
    "        \n",
    "        windowrange: tuple\n",
    "            Tuple of the form (start, end, step size), indicating the range of possible\n",
    "            window values. To be plugged into a range function.\n",
    "        '''\n",
    "        \n",
    "        windowlist = range(*windowrange)\n",
    "        \n",
    "        #testing window sizes\n",
    "        results = []\n",
    "        for window in windowlist:\n",
    "            results.append(self.test_strategy(window)[0])\n",
    "        \n",
    "        best_performance = np.max(results) #best performance\n",
    "        optimum = windowlist[np.argmax(results)] #the parameters of the best performance\n",
    "        \n",
    "        #run the optimal strat\n",
    "        self.test_strategy(optimum)\n",
    "        \n",
    "        #create a df with the variety of results\n",
    "        resultsframe = pd.DataFrame(data = {\"Window\": windowlist, \"Performance\": results})\n",
    "        resultsframe['Performance'] = results\n",
    "        self.results_overview = resultsframe\n",
    "        \n",
    "        return optimum, best_performance"
   ]
  },
  {
   "cell_type": "code",
   "execution_count": 106,
   "id": "feb255ec",
   "metadata": {},
   "outputs": [],
   "source": [
    "tester = ConBacktester(symbol='EURUSD', start='2018-05-05', end='2019-05-05', spread=1.5)"
   ]
  },
  {
   "cell_type": "code",
   "execution_count": 107,
   "id": "7eb4c973",
   "metadata": {},
   "outputs": [
    {
     "data": {
      "text/plain": [
       "(1.051042, 0.113228)"
      ]
     },
     "execution_count": 107,
     "metadata": {},
     "output_type": "execute_result"
    }
   ],
   "source": [
    "tester.test_strategy()"
   ]
  },
  {
   "cell_type": "code",
   "execution_count": 108,
   "id": "089e1307",
   "metadata": {},
   "outputs": [
    {
     "data": {
      "text/plain": [
       "(54, 1.202305)"
      ]
     },
     "execution_count": 108,
     "metadata": {},
     "output_type": "execute_result"
    }
   ],
   "source": [
    "tester.optimise_parameter(windowrange=(1,100,1))"
   ]
  },
  {
   "cell_type": "code",
   "execution_count": null,
   "id": "74bf4c08",
   "metadata": {},
   "outputs": [],
   "source": []
  }
 ],
 "metadata": {
  "kernelspec": {
   "display_name": "Python 3 (ipykernel)",
   "language": "python",
   "name": "python3"
  },
  "language_info": {
   "codemirror_mode": {
    "name": "ipython",
    "version": 3
   },
   "file_extension": ".py",
   "mimetype": "text/x-python",
   "name": "python",
   "nbconvert_exporter": "python",
   "pygments_lexer": "ipython3",
   "version": "3.9.7"
  }
 },
 "nbformat": 4,
 "nbformat_minor": 5
}
