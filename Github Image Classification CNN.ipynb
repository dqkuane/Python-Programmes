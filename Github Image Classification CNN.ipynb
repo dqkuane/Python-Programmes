{
 "cells": [
  {
   "cell_type": "code",
   "execution_count": 2,
   "id": "836553bc",
   "metadata": {},
   "outputs": [],
   "source": [
    "import tensorflow as tf\n",
    "from keras.preprocessing.image import ImageDataGenerator"
   ]
  },
  {
   "cell_type": "code",
   "execution_count": null,
   "id": "f23ff4d8",
   "metadata": {},
   "outputs": [],
   "source": [
    "#preprocessing the training set\n",
    "#transforming\n",
    "train_datagen = ImageDataGenerator(rescale = 1./255, shear_range=0.2, zoom_range=0.2,\n",
    "                                  horizontal_flip=True)\n",
    "training_set = train_datagen.flow_from_directory('INSERT TRAINING SET FILEPATH', \n",
    "                                                 target_size=(64, 64),  #64x64 to save time on laptops\n",
    "                                                 batch_size=32, class_mode='binary')\n",
    "\n",
    "#preprocessing test set\n",
    "test_datagen = ImageDataGenerator(rescale = 1./255, shear_range=0.2, zoom_range=0.2,\n",
    "                                  horizontal_flip=True)\n",
    "test_set = test_datagen.flow_from_directory('INSERT TEST SET FILEPATH', \n",
    "                                            target_size=(64, 64),\n",
    "                                            batch_size=32, class_mode='binary')"
   ]
  },
  {
   "cell_type": "code",
   "execution_count": null,
   "id": "bc3133d9",
   "metadata": {},
   "outputs": [],
   "source": [
    "#initialising the CNN\n",
    "cnn = tf.keras.models.Sequential()\n",
    "\n",
    "#first convolutional layer using relu activation\n",
    "cnn.add(tf.keras.layers.Conv2D(filters=32, kernel_size=3, activation='relu', input_shape=[64,64,3]))\n",
    "\n",
    "#pooling layer, using max pooling\n",
    "cnn.add(tf.keras.layers.MaxPool2D(pool_size=2, strides=2))\n",
    "\n",
    "#second convolutional layer, second pooling layer\n",
    "cnn.add(tf.keras.layers.Conv2D(filters=32, kernel_size=3, activation='relu'))\n",
    "cnn.add(tf.keras.layers.MaxPool2D(pool_size=2, strides=2))\n",
    "\n",
    "#flattening\n",
    "cnn.add(tf.keras.layers.Flatten())\n",
    "\n",
    "#attaining full connection\n",
    "cnn.add(tf.keras.layers.Dense(units=128, activation='relu'))\n",
    "\n",
    "#output layer - sigmoid bc binary output\n",
    "cnn.add(tf.keras.layers.Dense(units=1, activation='sigmoid'))\n",
    "\n",
    "#compilation and optimisation\n",
    "cnn.compile(optimizer='adam', loss='binary_crossentropy', metrics = ['accuracy'])"
   ]
  },
  {
   "cell_type": "code",
   "execution_count": null,
   "id": "3095846f",
   "metadata": {},
   "outputs": [],
   "source": [
    "#training and evaluation of the model\n",
    "#30 epochs to save time. Convergence generally occurs between 25-40\n",
    "cnn.fit(x=training_set, validation_data=test_set, epochs=30)"
   ]
  },
  {
   "cell_type": "code",
   "execution_count": null,
   "id": "6085623b",
   "metadata": {},
   "outputs": [],
   "source": []
  },
  {
   "cell_type": "markdown",
   "id": "aece966d",
   "metadata": {},
   "source": [
    "Single Image Prediction"
   ]
  },
  {
   "cell_type": "code",
   "execution_count": null,
   "id": "ba787c75",
   "metadata": {},
   "outputs": [],
   "source": [
    "import numpy as np\n",
    "from keras.preprocessing import image"
   ]
  },
  {
   "cell_type": "code",
   "execution_count": null,
   "id": "8d20fe60",
   "metadata": {},
   "outputs": [],
   "source": [
    "#can also select images from the training and test sets, or other files you download\n",
    "#the dataset file should have 2 images just to check\n",
    "test_image = image.load_img(path='/DogCat_dataset/single_prediction/cat_or_dog_1.jpg',\n",
    "                           target_size=(64,64))\n",
    "test_image = image.img_to_array(test_image)\n",
    "\n",
    "test_image = np.expand_dims(test_image, axis = 0)\n",
    "result = cnn.predict(test_image)\n",
    "training_set.class_indices \n",
    "\n",
    "if result[0][0] == 1:\n",
    "    prediction = 'dog'\n",
    "else:\n",
    "    prediction = 'cat'"
   ]
  },
  {
   "cell_type": "code",
   "execution_count": null,
   "id": "b11499a4",
   "metadata": {},
   "outputs": [],
   "source": [
    "#with the original 8000/2000 split I used to create this, the model amusingly got cat_or_dog_1 wrong\n",
    "#it luckily got pretty much all others I tested correct"
   ]
  }
 ],
 "metadata": {
  "kernelspec": {
   "display_name": "Python 3 (ipykernel)",
   "language": "python",
   "name": "python3"
  },
  "language_info": {
   "codemirror_mode": {
    "name": "ipython",
    "version": 3
   },
   "file_extension": ".py",
   "mimetype": "text/x-python",
   "name": "python",
   "nbconvert_exporter": "python",
   "pygments_lexer": "ipython3",
   "version": "3.9.7"
  }
 },
 "nbformat": 4,
 "nbformat_minor": 5
}
