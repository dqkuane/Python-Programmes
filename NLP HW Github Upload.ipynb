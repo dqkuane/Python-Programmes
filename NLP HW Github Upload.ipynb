{
 "cells": [
  {
   "cell_type": "code",
   "execution_count": 2,
   "id": "fd741a16",
   "metadata": {},
   "outputs": [],
   "source": [
    "import numpy as np\n",
    "import matplotlib.pyplot as plt\n",
    "import pandas as pd\n",
    "\n",
    "import re \n",
    "import nltk\n",
    "from nltk.corpus import stopwords\n",
    "from nltk.stem.porter import PorterStemmer\n",
    "from sklearn.feature_extraction.text import CountVectorizer\n",
    "\n",
    "from sklearn.model_selection import train_test_split\n",
    "\n",
    "from sklearn.linear_model import LogisticRegression\n",
    "from sklearn.tree import DecisionTreeClassifier\n",
    "from sklearn.naive_bayes import GaussianNB \n",
    "from sklearn.neighbors import KNeighborsClassifier\n",
    "from sklearn.svm import SVC\n",
    "from sklearn.ensemble import RandomForestClassifier\n",
    "\n",
    "from sklearn.metrics import confusion_matrix, accuracy_score, precision_score, recall_score, f1_score"
   ]
  },
  {
   "cell_type": "code",
   "execution_count": 4,
   "id": "6e1b5415",
   "metadata": {},
   "outputs": [],
   "source": [
    "dataset = pd.read_csv('Restaurant_Reviews.tsv', delimiter = '\\t', quoting = 3)\n",
    "\n",
    "x = dataset.iloc[:, :-1].values\n",
    "y = dataset.iloc[:, -1].values\n",
    "\n",
    "corpus = []\n",
    "for i in range(0,1000):\n",
    "    review = re.sub(pattern = '[^a-zA-Z]', repl = ' ', string = dataset['Review'][i])\n",
    "    review = review.lower()\n",
    "    review = review.split()\n",
    "    \n",
    "    ps = PorterStemmer()\n",
    "    \n",
    "    allstopwords = stopwords.words('english')\n",
    "    allstopwords.remove('not')\n",
    "    \n",
    "    review = [ps.stem(word) for word in review if not word in set(allstopwords)]\n",
    "    review = ' '.join(review)\n",
    "    corpus.append(review)"
   ]
  },
  {
   "cell_type": "code",
   "execution_count": 5,
   "id": "bb9978c6",
   "metadata": {},
   "outputs": [],
   "source": [
    "#bow = bag of words -- using bag of words model\n",
    "#using Naive bayes on the bag \n",
    "bow_cv = CountVectorizer(max_features=1500)\n",
    "bow_x = bow_cv.fit_transform(corpus).toarray()\n",
    "bow_y = y\n",
    "xtrain, xtest, ytrain, ytest = train_test_split(bow_x, bow_y, \n",
    "                                                test_size=0.20, \n",
    "                                                train_size=0.80, \n",
    "                                                random_state=0)\n",
    "bow_classifier = GaussianNB()\n",
    "bow_classifier.fit(xtrain, ytrain)\n",
    "bow_ypred = bow_classifier.predict(xtest)\n",
    "\n",
    "#logistic/maxent\n",
    "log_classifier = LogisticRegression(random_state=0)\n",
    "log_classifier.fit(xtrain,ytrain)\n",
    "log_ypred = log_classifier.predict(xtest)\n",
    "\n",
    "#cart\n",
    "cart_classifier = DecisionTreeClassifier(criterion='gini', random_state=0)\n",
    "cart_classifier.fit(xtrain, ytrain)\n",
    "cart_ypred = cart_classifier.predict(xtest)\n",
    "\n",
    "#entropy tree\n",
    "dt_classifier = DecisionTreeClassifier(criterion='entropy', random_state=0)\n",
    "dt_classifier.fit(xtrain, ytrain)\n",
    "dt_ypred = dt_classifier.predict(xtest)\n",
    "\n",
    "#random forest\n",
    "rf_classifier = RandomForestClassifier(n_estimators=100, criterion='entropy', random_state=0)\n",
    "rf_classifier.fit(xtrain, ytrain)\n",
    "rf_ypred = rf_classifier.predict(xtest)\n",
    "\n",
    "#svm\n",
    "sv_classifier = SVC(kernel='linear', random_state=0)\n",
    "sv_classifier.fit(xtrain, ytrain)\n",
    "sv_ypred = sv_classifier.predict(xtest)\n",
    "\n",
    "#kernel svm\n",
    "ksvm_classifier = SVC(kernel='rbf', random_state=0)\n",
    "ksvm_classifier.fit(xtrain, ytrain)\n",
    "ksvm_ypred = ksvm_classifier.predict(xtest)\n",
    "\n",
    "#knn\n",
    "knn_classifier = KNeighborsClassifier(n_neighbors=5, weights='uniform', metric='minkowski', p=2)\n",
    "knn_classifier.fit(xtrain, ytrain)\n",
    "knn_ypred = knn_classifier.predict(xtest)"
   ]
  },
  {
   "cell_type": "code",
   "execution_count": 6,
   "id": "aa42dcc2",
   "metadata": {},
   "outputs": [],
   "source": [
    "results = [bow_ypred, log_ypred, sv_ypred, ksvm_ypred, cart_ypred, dt_ypred, rf_ypred, knn_ypred]"
   ]
  },
  {
   "cell_type": "code",
   "execution_count": 7,
   "id": "d4f5391b",
   "metadata": {},
   "outputs": [],
   "source": [
    "#labelling columns\n",
    "df = pd.DataFrame(columns = ['Accuracy Score', 'Precision Score', 'Recall Score', 'F1 Score'])\n",
    "\n",
    "#inputting data\n",
    "for result in results:\n",
    "    \n",
    "    df = df.append({\n",
    "     \"Accuracy Score\": accuracy_score(ytest, result),\n",
    "     \"Precision Score\": precision_score(ytest, result, average = 'weighted'),\n",
    "     \"Recall Score\": recall_score(ytest, result, average = 'weighted'),\n",
    "     \"F1 Score\": f1_score(ytest, result, average = 'weighted')\n",
    "      }, ignore_index = True)\n",
    "\n",
    "#relabelling index so the df is more easily readable\n",
    "#using zip as I felt the rename line was more easily scalable \n",
    "#of course you'd need to find a separate way to deal with the idxlabels list\n",
    "idx = list(df.index)\n",
    "idxlabels = ['Naive Bayes (Control)','Max Entropy', 'SVM', 'Kernel SVM', 'CART',\n",
    "          'Entropy Gain Decision Tree', 'Random Forest', 'K-Nearest Neighbours']\n",
    "df.rename(index = {idx[i]: j for i,j in zip(idx, idxlabels)} , inplace=True)"
   ]
  },
  {
   "cell_type": "code",
   "execution_count": 10,
   "id": "bf02a402",
   "metadata": {},
   "outputs": [
    {
     "data": {
      "text/html": [
       "<div>\n",
       "<style scoped>\n",
       "    .dataframe tbody tr th:only-of-type {\n",
       "        vertical-align: middle;\n",
       "    }\n",
       "\n",
       "    .dataframe tbody tr th {\n",
       "        vertical-align: top;\n",
       "    }\n",
       "\n",
       "    .dataframe thead th {\n",
       "        text-align: right;\n",
       "    }\n",
       "</style>\n",
       "<table border=\"1\" class=\"dataframe\">\n",
       "  <thead>\n",
       "    <tr style=\"text-align: right;\">\n",
       "      <th></th>\n",
       "      <th>Accuracy Score</th>\n",
       "      <th>Precision Score</th>\n",
       "      <th>Recall Score</th>\n",
       "      <th>F1 Score</th>\n",
       "    </tr>\n",
       "  </thead>\n",
       "  <tbody>\n",
       "    <tr>\n",
       "      <th>Naive Bayes (Control)</th>\n",
       "      <td>0.730</td>\n",
       "      <td>0.750503</td>\n",
       "      <td>0.730</td>\n",
       "      <td>0.722466</td>\n",
       "    </tr>\n",
       "    <tr>\n",
       "      <th>Max Entropy</th>\n",
       "      <td>0.775</td>\n",
       "      <td>0.779096</td>\n",
       "      <td>0.775</td>\n",
       "      <td>0.774690</td>\n",
       "    </tr>\n",
       "    <tr>\n",
       "      <th>SVM</th>\n",
       "      <td>0.790</td>\n",
       "      <td>0.791423</td>\n",
       "      <td>0.790</td>\n",
       "      <td>0.790000</td>\n",
       "    </tr>\n",
       "    <tr>\n",
       "      <th>Kernel SVM</th>\n",
       "      <td>0.780</td>\n",
       "      <td>0.805387</td>\n",
       "      <td>0.780</td>\n",
       "      <td>0.776571</td>\n",
       "    </tr>\n",
       "    <tr>\n",
       "      <th>CART</th>\n",
       "      <td>0.735</td>\n",
       "      <td>0.740056</td>\n",
       "      <td>0.735</td>\n",
       "      <td>0.734396</td>\n",
       "    </tr>\n",
       "    <tr>\n",
       "      <th>Entropy Gain Decision Tree</th>\n",
       "      <td>0.750</td>\n",
       "      <td>0.754537</td>\n",
       "      <td>0.750</td>\n",
       "      <td>0.749550</td>\n",
       "    </tr>\n",
       "    <tr>\n",
       "      <th>Random Forest</th>\n",
       "      <td>0.765</td>\n",
       "      <td>0.803915</td>\n",
       "      <td>0.765</td>\n",
       "      <td>0.758909</td>\n",
       "    </tr>\n",
       "    <tr>\n",
       "      <th>K-Nearest Neighbours</th>\n",
       "      <td>0.645</td>\n",
       "      <td>0.648874</td>\n",
       "      <td>0.645</td>\n",
       "      <td>0.644191</td>\n",
       "    </tr>\n",
       "  </tbody>\n",
       "</table>\n",
       "</div>"
      ],
      "text/plain": [
       "                            Accuracy Score  Precision Score  Recall Score  \\\n",
       "Naive Bayes (Control)                0.730         0.750503         0.730   \n",
       "Max Entropy                          0.775         0.779096         0.775   \n",
       "SVM                                  0.790         0.791423         0.790   \n",
       "Kernel SVM                           0.780         0.805387         0.780   \n",
       "CART                                 0.735         0.740056         0.735   \n",
       "Entropy Gain Decision Tree           0.750         0.754537         0.750   \n",
       "Random Forest                        0.765         0.803915         0.765   \n",
       "K-Nearest Neighbours                 0.645         0.648874         0.645   \n",
       "\n",
       "                            F1 Score  \n",
       "Naive Bayes (Control)       0.722466  \n",
       "Max Entropy                 0.774690  \n",
       "SVM                         0.790000  \n",
       "Kernel SVM                  0.776571  \n",
       "CART                        0.734396  \n",
       "Entropy Gain Decision Tree  0.749550  \n",
       "Random Forest               0.758909  \n",
       "K-Nearest Neighbours        0.644191  "
      ]
     },
     "execution_count": 10,
     "metadata": {},
     "output_type": "execute_result"
    }
   ],
   "source": [
    "df"
   ]
  },
  {
   "cell_type": "code",
   "execution_count": null,
   "id": "e0a7195c",
   "metadata": {},
   "outputs": [],
   "source": [
    "#you can run nlargest or sort_values to find best in class"
   ]
  },
  {
   "cell_type": "code",
   "execution_count": 18,
   "id": "89d5122d",
   "metadata": {},
   "outputs": [
    {
     "data": {
      "text/plain": [
       "<AxesSubplot:>"
      ]
     },
     "execution_count": 18,
     "metadata": {},
     "output_type": "execute_result"
    },
    {
     "data": {
      "image/png": "[encoded data removed]",
      "text/plain": [
       "<Figure size 432x288 with 1 Axes>"
      ]
     },
     "metadata": {
      "needs_background": "light"
     },
     "output_type": "display_data"
    }
   ],
   "source": [
    "#shows the best across all values\n",
    "df.plot(kind = 'bar')"
   ]
  },
  {
   "cell_type": "code",
   "execution_count": 29,
   "id": "73389341",
   "metadata": {},
   "outputs": [
    {
     "data": {
      "image/png": "[encoded data removed]",
      "text/plain": [
       "<Figure size 432x288 with 1 Axes>"
      ]
     },
     "metadata": {
      "needs_background": "light"
     },
     "output_type": "display_data"
    }
   ],
   "source": [
    "#if you'd prefer a closer view\n",
    "df.plot(kind = 'bar', ylim = (0.6,0.85))\n",
    "plt.legend(bbox_to_anchor=(1.37,1));"
   ]
  },
  {
   "cell_type": "code",
   "execution_count": null,
   "id": "ce6be6e7",
   "metadata": {},
   "outputs": [],
   "source": []
  },
  {
   "cell_type": "code",
   "execution_count": null,
   "id": "e578865a",
   "metadata": {},
   "outputs": [],
   "source": []
  },
  {
   "cell_type": "code",
   "execution_count": null,
   "id": "c56854c3",
   "metadata": {},
   "outputs": [],
   "source": []
  }
 ],
 "metadata": {
  "kernelspec": {
   "display_name": "Python 3 (ipykernel)",
   "language": "python",
   "name": "python3"
  },
  "language_info": {
   "codemirror_mode": {
    "name": "ipython",
    "version": 3
   },
   "file_extension": ".py",
   "mimetype": "text/x-python",
   "name": "python",
   "nbconvert_exporter": "python",
   "pygments_lexer": "ipython3",
   "version": "3.9.7"
  }
 },
 "nbformat": 4,
 "nbformat_minor": 5
}
